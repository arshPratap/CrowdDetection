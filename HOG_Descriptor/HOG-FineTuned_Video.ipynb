{
 "cells": [
  {
   "cell_type": "code",
   "execution_count": 1,
   "id": "52ca18cb",
   "metadata": {},
   "outputs": [],
   "source": [
    "from __future__ import print_function\n",
    "from imutils.object_detection import non_max_suppression\n",
    "from imutils import paths\n",
    "import numpy as np\n",
    "import imutils\n",
    "import cv2"
   ]
  },
  {
   "cell_type": "code",
   "execution_count": 2,
   "id": "3da6250a",
   "metadata": {},
   "outputs": [],
   "source": [
    "hog = cv2.HOGDescriptor()\n",
    "hog.setSVMDetector(cv2.HOGDescriptor_getDefaultPeopleDetector())"
   ]
  },
  {
   "cell_type": "code",
   "execution_count": 3,
   "id": "cd40d348",
   "metadata": {},
   "outputs": [],
   "source": [
    "video_path = r'C:\\Users\\user\\Desktop\\ML\\CrowdDetection\\RP1\\input\\input\\video1.mp4'"
   ]
  },
  {
   "cell_type": "code",
   "execution_count": 4,
   "id": "842d79c3",
   "metadata": {},
   "outputs": [],
   "source": [
    "cap = cv2.VideoCapture(video_path)\n",
    "if (cap.isOpened() == False):\n",
    "    print('Error while trying to open video. Please check again...')"
   ]
  },
  {
   "cell_type": "code",
   "execution_count": 5,
   "id": "248df923",
   "metadata": {},
   "outputs": [],
   "source": [
    "video_outpath = r'C:\\Users\\user\\Desktop\\ML\\CrowdDetection\\RP1\\input\\output\\output.mp4'"
   ]
  },
  {
   "cell_type": "code",
   "execution_count": 6,
   "id": "fda080c6",
   "metadata": {},
   "outputs": [],
   "source": [
    "frame_width = int(cap.get(3))\n",
    "frame_height = int(cap.get(4))\n",
    "if frame_width < 400: \n",
    "        frame_width = 400\n",
    "        ratio = frame_width / float(frame_width) \n",
    "        frame_height = int(frame_width * ratio)\n",
    "out = cv2.VideoWriter(video_outpath, cv2.VideoWriter_fourcc(*'mp4v'), 30, (frame_width,frame_height))\n",
    "frame_count = 0\n",
    "total_fps = 0"
   ]
  },
  {
   "cell_type": "code",
   "execution_count": 7,
   "id": "e1cfe95a",
   "metadata": {},
   "outputs": [],
   "source": [
    "import time\n",
    "import os"
   ]
  },
  {
   "cell_type": "code",
   "execution_count": 8,
   "id": "dfe32045",
   "metadata": {},
   "outputs": [
    {
     "name": "stdout",
     "output_type": "stream",
     "text": [
      "Average FPS: 6.517\n"
     ]
    }
   ],
   "source": [
    "while(cap.isOpened()):\n",
    "    ret, frame = cap.read()\n",
    "    if ret == True:\n",
    "        start_time = time.time()\n",
    "        \n",
    "        frame = cv2.resize(frame, (frame_width, frame_height))\n",
    "        img_gray = cv2.cvtColor(frame, cv2.COLOR_BGR2GRAY)\n",
    "        rects, weights = hog.detectMultiScale(img_gray, winStride=(4, 4), padding=(4, 4), scale=1.02)\n",
    "        for i, (x, y, w, h) in enumerate(rects):\n",
    "            if weights[i] < 0.13:\n",
    "                continue\n",
    "            elif weights[i] < 0.3 and weights[i] > 0.13:\n",
    "                cv2.rectangle(frame, (x, y), (x+w, y+h), (0, 0, 255), 2)\n",
    "            if weights[i] < 0.7 and weights[i] > 0.3:\n",
    "                cv2.rectangle(frame, (x, y), (x+w, y+h), (50, 122, 255), 2)\n",
    "            if weights[i] > 0.7:\n",
    "                cv2.rectangle(frame, (x, y), (x+w, y+h), (0, 255, 0), 2)\n",
    "        cv2.putText(frame, 'High confidence', (10, 15), cv2.FONT_HERSHEY_SIMPLEX, 0.7, (0, 255, 0), 2)\n",
    "        cv2.putText(frame, 'Moderate confidence', (10, 35), cv2.FONT_HERSHEY_SIMPLEX, 0.7, (50, 122, 255), 2)\n",
    "        cv2.putText(frame, 'Low confidence', (10, 55), cv2.FONT_HERSHEY_SIMPLEX, 0.7, (0, 0, 255), 2)\n",
    "        frame_write_name = 'frame'+str(frame_count)+'.jpg'\n",
    "        file_path = r'C:\\Users\\user\\Desktop\\ML\\CrowdDetection\\RP1\\input\\output\\frames'\n",
    "        cv2.imwrite(os.path.join(file_path,frame_write_name), frame)\n",
    "        \n",
    "    \n",
    "        end_time = time.time()\n",
    "        fps = 1 / (end_time - start_time)\n",
    "        total_fps += fps\n",
    "        frame_count += 1\n",
    "        cv2.imshow(\"Preview\", frame)\n",
    "        out.write(frame)\n",
    "        wait_time = max(1, int(fps/4))\n",
    "        if cv2.waitKey(wait_time) & 0xFF == ord('q'):\n",
    "            break\n",
    "    else:\n",
    "        break\n",
    "\n",
    "\n",
    "avg_fps = total_fps / frame_count\n",
    "print(f\"Average FPS: {avg_fps:.3f}\" )\n",
    "cap.release()\n",
    "cv2.destroyAllWindows()"
   ]
  },
  {
   "cell_type": "code",
   "execution_count": null,
   "id": "32bdb62e",
   "metadata": {},
   "outputs": [],
   "source": []
  }
 ],
 "metadata": {
  "kernelspec": {
   "display_name": "Python 3 (ipykernel)",
   "language": "python",
   "name": "python3"
  },
  "language_info": {
   "codemirror_mode": {
    "name": "ipython",
    "version": 3
   },
   "file_extension": ".py",
   "mimetype": "text/x-python",
   "name": "python",
   "nbconvert_exporter": "python",
   "pygments_lexer": "ipython3",
   "version": "3.7.11"
  }
 },
 "nbformat": 4,
 "nbformat_minor": 5
}
