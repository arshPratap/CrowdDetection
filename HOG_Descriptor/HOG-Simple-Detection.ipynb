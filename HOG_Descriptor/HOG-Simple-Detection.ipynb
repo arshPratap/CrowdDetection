{
 "cells": [
  {
   "cell_type": "code",
   "execution_count": null,
   "id": "e072d776",
   "metadata": {},
   "outputs": [],
   "source": [
    "from __future__ import print_function\n",
    "from imutils.object_detection import non_max_suppression\n",
    "from imutils import paths\n",
    "import numpy as np\n",
    "import imutils\n",
    "import cv2"
   ]
  },
  {
   "cell_type": "code",
   "execution_count": null,
   "id": "c0b76b5e",
   "metadata": {},
   "outputs": [],
   "source": [
    "hog = cv2.HOGDescriptor()\n",
    "hog.setSVMDetector(cv2.HOGDescriptor_getDefaultPeopleDetector())"
   ]
  },
  {
   "cell_type": "code",
   "execution_count": null,
   "id": "5016f32f",
   "metadata": {},
   "outputs": [],
   "source": [
    "imgPath = r'C:\\Users\\user\\Desktop\\ML\\CrowdDetection\\RP1\\hogTest6.jpg'"
   ]
  },
  {
   "cell_type": "code",
   "execution_count": null,
   "id": "620610b0",
   "metadata": {},
   "outputs": [],
   "source": [
    "image = cv2.imread(imgPath)"
   ]
  },
  {
   "cell_type": "code",
   "execution_count": null,
   "id": "0ee8a738",
   "metadata": {},
   "outputs": [],
   "source": [
    "image = imutils.resize(image, width=min(400, image.shape[1]))\n",
    "orig = image.copy()"
   ]
  },
  {
   "cell_type": "code",
   "execution_count": null,
   "id": "d8506757",
   "metadata": {},
   "outputs": [],
   "source": [
    "(rects, weights) = hog.detectMultiScale(image, winStride=(4, 4),padding=(8, 8), scale=1.05)"
   ]
  },
  {
   "cell_type": "code",
   "execution_count": null,
   "id": "f5d2e3f9",
   "metadata": {},
   "outputs": [],
   "source": [
    "person = 1\n",
    "for (x,y,w,h) in rects:\n",
    "    cv2.rectangle(orig,(x,y),(x+w,y+h),(0,0,255),2)\n",
    "    cv2.putText(orig, f'person {person}', (x,y), cv2.FONT_HERSHEY_SIMPLEX, 0.5, (0,0,255), 1)\n",
    "    person += 1\n",
    "    \n",
    "cv2.putText(orig, 'Status : Detecting ', (40,40), cv2.FONT_HERSHEY_DUPLEX, 0.8, (255,0,0), 2)\n",
    "cv2.putText(orig, f'Total Persons : {person-1}', (40,70), cv2.FONT_HERSHEY_DUPLEX, 0.8, (255,0,0), 2)"
   ]
  },
  {
   "cell_type": "code",
   "execution_count": null,
   "id": "0800275a",
   "metadata": {},
   "outputs": [],
   "source": [
    "cv2.imshow(\"Before NMS\", orig)\n",
    "cv2.waitKey(0)"
   ]
  },
  {
   "cell_type": "code",
   "execution_count": null,
   "id": "bce3df66",
   "metadata": {},
   "outputs": [],
   "source": []
  }
 ],
 "metadata": {
  "kernelspec": {
   "display_name": "Python 3 (ipykernel)",
   "language": "python",
   "name": "python3"
  },
  "language_info": {
   "codemirror_mode": {
    "name": "ipython",
    "version": 3
   },
   "file_extension": ".py",
   "mimetype": "text/x-python",
   "name": "python",
   "nbconvert_exporter": "python",
   "pygments_lexer": "ipython3",
   "version": "3.7.11"
  }
 },
 "nbformat": 4,
 "nbformat_minor": 5
}
